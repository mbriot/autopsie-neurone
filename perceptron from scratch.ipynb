{
 "cells": [
  {
   "cell_type": "markdown",
   "metadata": {},
   "source": [
    "# Jupyter : un notebook pour executer executer du python\n",
    "<hr/>"
   ]
  },
  {
   "cell_type": "markdown",
   "metadata": {},
   "source": [
    "## SOMMAIRE:\n",
    "* [Préparation des données](#prepare-data)\n",
    "* [Calcul de l’output du neurone](#output-compute)\n",
    "* [Prédire -> mettre à jour](#predict-update)\n",
    "* [Prédiction sur de nouvelles données](#new-data)"
   ]
  },
  {
   "cell_type": "markdown",
   "metadata": {},
   "source": [
    "## Préparation des données <a class=\"anchor\" id=\"prepare-data\"></a>"
   ]
  },
  {
   "cell_type": "markdown",
   "metadata": {},
   "source": [
    "### Nos données sont dans un csv nommé training_data.csv"
   ]
  },
  {
   "cell_type": "code",
   "execution_count": 28,
   "metadata": {},
   "outputs": [],
   "source": [
    "from csv import reader"
   ]
  },
  {
   "cell_type": "code",
   "execution_count": 57,
   "metadata": {},
   "outputs": [],
   "source": [
    "training_data = list()\n",
    "with open('training_data.csv', 'r') as file:\n",
    "    csv_reader = reader(file)\n",
    "    for row in csv_reader:\n",
    "        training_data.append(row)"
   ]
  },
  {
   "cell_type": "code",
   "execution_count": 30,
   "metadata": {},
   "outputs": [
    {
     "name": "stdout",
     "output_type": "stream",
     "text": [
      "training samples : 7499\n"
     ]
    }
   ],
   "source": [
    "print(\"training samples : {}\".format(len(training_data)))"
   ]
  },
  {
   "cell_type": "code",
   "execution_count": 31,
   "metadata": {},
   "outputs": [
    {
     "data": {
      "text/plain": [
       "['Claud', 'badBoy']"
      ]
     },
     "execution_count": 31,
     "metadata": {},
     "output_type": "execute_result"
    }
   ],
   "source": [
    "training_data[0]"
   ]
  },
  {
   "cell_type": "code",
   "execution_count": 56,
   "metadata": {},
   "outputs": [],
   "source": [
    "def transformName(name) : \n",
    "    values = []\n",
    "    for x in name.lower() :\n",
    "        values.append(float( (ord(x))  ))\n",
    "    return values\n",
    "\n"
   ]
  },
  {
   "cell_type": "code",
   "execution_count": 64,
   "metadata": {},
   "outputs": [
    {
     "name": "stdout",
     "output_type": "stream",
     "text": [
      "[0.44, 0.0, 0.8, 0.68, 0.16, 0.52, 0.76]\n"
     ]
    }
   ],
   "source": [
    "print(transformName(\"laurent\"))"
   ]
  },
  {
   "cell_type": "code",
   "execution_count": 37,
   "metadata": {},
   "outputs": [],
   "source": [
    "def transformTarget(target) :\n",
    "    if target == \"goodBoy\" :\n",
    "        formatedTarget = 1.0\n",
    "    else :\n",
    "        formatedTarget = 0.0\n",
    "    return formatedTarget"
   ]
  },
  {
   "cell_type": "code",
   "execution_count": 39,
   "metadata": {},
   "outputs": [
    {
     "name": "stdout",
     "output_type": "stream",
     "text": [
      "0.0\n"
     ]
    }
   ],
   "source": [
    "print(transformTarget(\"badBoy\"))"
   ]
  },
  {
   "cell_type": "code",
   "execution_count": 58,
   "metadata": {},
   "outputs": [],
   "source": [
    "formatedDataset = []\n",
    "for name,target in training_data :\n",
    "    values = transformName(name)\n",
    "    target = transformTarget(target)\n",
    "    formatedDataset.append([values,target])"
   ]
  },
  {
   "cell_type": "code",
   "execution_count": 41,
   "metadata": {
    "scrolled": true
   },
   "outputs": [
    {
     "name": "stdout",
     "output_type": "stream",
     "text": [
      "prénom en nombre : [99.0, 108.0, 97.0, 117.0, 100.0]\n",
      "target en nombre : 0.0\n"
     ]
    }
   ],
   "source": [
    "print(\"prénom en nombre : {}\".format(formatedDataset[0][0]))\n",
    "print(\"target en nombre : {}\".format(formatedDataset[0][1]))"
   ]
  },
  {
   "cell_type": "code",
   "execution_count": 42,
   "metadata": {},
   "outputs": [
    {
     "data": {
      "text/plain": [
       "[[[99.0, 108.0, 97.0, 117.0, 100.0], 0.0],\n",
       " [[97.0, 108.0, 112.0, 104.0, 111.0], 1.0],\n",
       " [[99.0, 104.0, 114.0, 105.0, 115.0], 0.0]]"
      ]
     },
     "execution_count": 42,
     "metadata": {},
     "output_type": "execute_result"
    }
   ],
   "source": [
    "formatedDataset[0:3]"
   ]
  },
  {
   "cell_type": "markdown",
   "metadata": {},
   "source": [
    "## Calcul de l’output du neurone <a class=\"anchor\" id=\"output-compute\"></a>"
   ]
  },
  {
   "cell_type": "code",
   "execution_count": 43,
   "metadata": {},
   "outputs": [],
   "source": [
    "def cacul_output(row, poids, biais):\n",
    "    V = 0.0\n",
    "    for i in range(5):\n",
    "        V += row[i] * poids[i]\n",
    "    V =+ biais\n",
    "    if V > 0:\n",
    "        return 1.0\n",
    "    else :\n",
    "        return 0.0"
   ]
  },
  {
   "cell_type": "markdown",
   "metadata": {},
   "source": [
    "## Prédire -> mettre à jour <a class=\"anchor\" id=\"predict-update\"></a>"
   ]
  },
  {
   "cell_type": "code",
   "execution_count": 44,
   "metadata": {},
   "outputs": [],
   "source": [
    "epoques=10\n",
    "learning_rate=0.1"
   ]
  },
  {
   "cell_type": "code",
   "execution_count": 45,
   "metadata": {},
   "outputs": [],
   "source": [
    "def updatePoidsEtBiais(row, poids, biais, error) : \n",
    "    for i in range(5):\n",
    "        poids[i] = poids[i] + row[i] * error * learning_rate\n",
    "    biais = biais + error * learning_rate\n",
    "    return poids, biais"
   ]
  },
  {
   "cell_type": "code",
   "execution_count": 50,
   "metadata": {
    "scrolled": true
   },
   "outputs": [],
   "source": [
    "def entrainement(dataset):\n",
    "    biais = 0.0\n",
    "    poids = [ 0.0, 0.0, 0.0, 0.0, 0.0 ]\n",
    "    for epoque in range(epoques):\n",
    "        goodResponse = 0\n",
    "        for row, target in dataset:\n",
    "            Output = cacul_output(row, poids, biais)\n",
    "            if target == Output :\n",
    "                goodResponse += 1\n",
    "            error = target - Output\n",
    "            poids, biais = updatePoidsEtBiais(row, poids, biais, error)\n",
    "        print(\"t as été precis de {}\".format(goodResponse / 7499))\n",
    "    return poids, biais"
   ]
  },
  {
   "cell_type": "code",
   "execution_count": 51,
   "metadata": {},
   "outputs": [
    {
     "name": "stdout",
     "output_type": "stream",
     "text": [
      "t as été precis de 0.7322309641285505\n",
      "t as été precis de 0.7322309641285505\n",
      "t as été precis de 0.7322309641285505\n",
      "t as été precis de 0.7322309641285505\n",
      "t as été precis de 0.7322309641285505\n",
      "t as été precis de 0.7322309641285505\n",
      "t as été precis de 0.7322309641285505\n",
      "t as été precis de 0.7322309641285505\n",
      "t as été precis de 0.7322309641285505\n",
      "t as été precis de 0.7322309641285505\n"
     ]
    }
   ],
   "source": [
    "poids, biais = entrainement(formatedDataset)"
   ]
  },
  {
   "cell_type": "code",
   "execution_count": 48,
   "metadata": {},
   "outputs": [
    {
     "data": {
      "text/plain": [
       "[-6786.000000000526,\n",
       " 7778.999999999313,\n",
       " -1638.0000000000173,\n",
       " -927.9999999999776,\n",
       " -131.00000000000074]"
      ]
     },
     "execution_count": 48,
     "metadata": {},
     "output_type": "execute_result"
    }
   ],
   "source": [
    "poids"
   ]
  },
  {
   "cell_type": "code",
   "execution_count": 49,
   "metadata": {},
   "outputs": [
    {
     "data": {
      "text/plain": [
       "0.0"
      ]
     },
     "execution_count": 49,
     "metadata": {},
     "output_type": "execute_result"
    }
   ],
   "source": [
    "biais"
   ]
  },
  {
   "cell_type": "markdown",
   "metadata": {},
   "source": [
    "## Prédiction sur de nouvelles données <a class=\"anchor\" id=\"new-data\"></a>\n"
   ]
  },
  {
   "cell_type": "markdown",
   "metadata": {},
   "source": [
    "## 22 neurones sur 4 couches  ! <a class=\"anchor\" id=\"new-data\"></a>\n"
   ]
  },
  {
   "cell_type": "code",
   "execution_count": 52,
   "metadata": {},
   "outputs": [
    {
     "name": "stderr",
     "output_type": "stream",
     "text": [
      "/anaconda3/lib/python3.6/site-packages/h5py/__init__.py:36: FutureWarning: Conversion of the second argument of issubdtype from `float` to `np.floating` is deprecated. In future, it will be treated as `np.float64 == np.dtype(float).type`.\n",
      "  from ._conv import register_converters as _register_converters\n",
      "Using TensorFlow backend.\n"
     ]
    }
   ],
   "source": [
    "from keras.models import Sequential\n",
    "from keras.layers.core import Dense\n",
    "from sklearn.preprocessing import StandardScaler\n",
    "import numpy as np"
   ]
  },
  {
   "cell_type": "code",
   "execution_count": 53,
   "metadata": {},
   "outputs": [],
   "source": [
    "model = Sequential()\n",
    "model.add(Dense(12, input_dim=5, kernel_initializer='normal', activation='relu'))\n",
    "model.add(Dense(6, kernel_initializer='normal', activation='relu'))\n",
    "model.add(Dense(3, kernel_initializer='normal', activation='relu'))\n",
    "model.add(Dense(1, kernel_initializer='normal', activation='sigmoid'))\n",
    "\n",
    "model.compile(loss='binary_crossentropy', optimizer='adam', metrics=['accuracy'])"
   ]
  },
  {
   "cell_type": "code",
   "execution_count": 59,
   "metadata": {},
   "outputs": [],
   "source": [
    "X = [ name for name, target in formatedDataset ]\n",
    "X = np.array(X)\n",
    "scaler = StandardScaler()\n",
    "scaler.fit(X)\n",
    "scaler.transform(X)\n",
    "\n",
    "Y = [ target for name, target in formatedDataset ]"
   ]
  },
  {
   "cell_type": "code",
   "execution_count": 60,
   "metadata": {},
   "outputs": [
    {
     "name": "stdout",
     "output_type": "stream",
     "text": [
      "Epoch 1/30\n",
      "7499/7499 [==============================] - 2s 238us/step - loss: 0.3588 - acc: 0.8410\n",
      "Epoch 2/30\n",
      "7499/7499 [==============================] - 2s 239us/step - loss: 0.3189 - acc: 0.8410\n",
      "Epoch 3/30\n",
      "7499/7499 [==============================] - 2s 238us/step - loss: 0.3056 - acc: 0.8410\n",
      "Epoch 4/30\n",
      "7499/7499 [==============================] - 2s 235us/step - loss: 0.2978 - acc: 0.8410\n",
      "Epoch 5/30\n",
      "7499/7499 [==============================] - 2s 235us/step - loss: 0.2943 - acc: 0.8410\n",
      "Epoch 6/30\n",
      "7499/7499 [==============================] - 2s 236us/step - loss: 0.2931 - acc: 0.8422\n",
      "Epoch 7/30\n",
      "7499/7499 [==============================] - 2s 238us/step - loss: 0.2926 - acc: 0.8550\n",
      "Epoch 8/30\n",
      "7499/7499 [==============================] - 2s 236us/step - loss: 0.2916 - acc: 0.8576\n",
      "Epoch 9/30\n",
      "7499/7499 [==============================] - 2s 237us/step - loss: 0.2916 - acc: 0.8557\n",
      "Epoch 10/30\n",
      "7499/7499 [==============================] - 2s 237us/step - loss: 0.2904 - acc: 0.8624\n",
      "Epoch 11/30\n",
      "7499/7499 [==============================] - 2s 237us/step - loss: 0.2896 - acc: 0.8660\n",
      "Epoch 12/30\n",
      "7499/7499 [==============================] - 2s 238us/step - loss: 0.2893 - acc: 0.8644\n",
      "Epoch 13/30\n",
      "7499/7499 [==============================] - 2s 248us/step - loss: 0.2889 - acc: 0.8661\n",
      "Epoch 14/30\n",
      "7499/7499 [==============================] - 2s 242us/step - loss: 0.2879 - acc: 0.8681\n",
      "Epoch 15/30\n",
      "7499/7499 [==============================] - 2s 239us/step - loss: 0.2872 - acc: 0.8673\n",
      "Epoch 16/30\n",
      "7499/7499 [==============================] - 2s 242us/step - loss: 0.2853 - acc: 0.8653\n",
      "Epoch 17/30\n",
      "7499/7499 [==============================] - 2s 246us/step - loss: 0.2845 - acc: 0.8618\n",
      "Epoch 18/30\n",
      "7499/7499 [==============================] - 2s 247us/step - loss: 0.2842 - acc: 0.8633\n",
      "Epoch 19/30\n",
      "7499/7499 [==============================] - 2s 247us/step - loss: 0.2823 - acc: 0.8608\n",
      "Epoch 20/30\n",
      "7499/7499 [==============================] - 2s 240us/step - loss: 0.2795 - acc: 0.8624\n",
      "Epoch 21/30\n",
      "7499/7499 [==============================] - 2s 240us/step - loss: 0.2739 - acc: 0.8633\n",
      "Epoch 22/30\n",
      "7499/7499 [==============================] - 2s 250us/step - loss: 0.2655 - acc: 0.8692\n",
      "Epoch 23/30\n",
      "7499/7499 [==============================] - 2s 247us/step - loss: 0.2524 - acc: 0.8775\n",
      "Epoch 24/30\n",
      "7499/7499 [==============================] - 2s 254us/step - loss: 0.2345 - acc: 0.8865\n",
      "Epoch 25/30\n",
      "7499/7499 [==============================] - 2s 252us/step - loss: 0.2148 - acc: 0.9085\n",
      "Epoch 26/30\n",
      "7499/7499 [==============================] - 2s 246us/step - loss: 0.1912 - acc: 0.9279\n",
      "Epoch 27/30\n",
      "7499/7499 [==============================] - 2s 241us/step - loss: 0.1661 - acc: 0.9473\n",
      "Epoch 28/30\n",
      "7499/7499 [==============================] - 2s 239us/step - loss: 0.1475 - acc: 0.9596\n",
      "Epoch 29/30\n",
      "7499/7499 [==============================] - 2s 245us/step - loss: 0.1348 - acc: 0.9631\n",
      "Epoch 30/30\n",
      "7499/7499 [==============================] - 2s 248us/step - loss: 0.1303 - acc: 0.9620\n"
     ]
    },
    {
     "data": {
      "text/plain": [
       "<keras.callbacks.History at 0x1a1e96b320>"
      ]
     },
     "execution_count": 60,
     "metadata": {},
     "output_type": "execute_result"
    }
   ],
   "source": [
    "model.fit(np.array(X), Y, epochs=30, batch_size=5, verbose=1)"
   ]
  },
  {
   "cell_type": "code",
   "execution_count": 69,
   "metadata": {},
   "outputs": [],
   "source": [
    "def testPrediction(name) :\n",
    "    name = name + 'x' * (5 - len(name)) if len(name) < 5 else name\n",
    "    nameFormated = [float((ord(x)-ord(\"a\")) / (ord(\"z\")-ord(\"a\")) ) for x in name[0:5].lower()]\n",
    "    npArray = np.array([nameFormated])\n",
    "    scaler.transform(npArray)\n",
    "    result = model.predict_classes(npArray)\n",
    "    return \"goodBoy\" if result == 1 else \"badBoy\"\n"
   ]
  },
  {
   "cell_type": "code",
   "execution_count": 70,
   "metadata": {},
   "outputs": [],
   "source": [
    "result = testPrediction(\"blex\")"
   ]
  },
  {
   "cell_type": "markdown",
   "metadata": {
    "variables": {
     "result": "badBoy"
    }
   },
   "source": [
    "# {{result}}"
   ]
  }
 ],
 "metadata": {
  "kernelspec": {
   "display_name": "Python 3",
   "language": "python",
   "name": "python3"
  },
  "language_info": {
   "codemirror_mode": {
    "name": "ipython",
    "version": 3
   },
   "file_extension": ".py",
   "mimetype": "text/x-python",
   "name": "python",
   "nbconvert_exporter": "python",
   "pygments_lexer": "ipython3",
   "version": "3.6.4"
  }
 },
 "nbformat": 4,
 "nbformat_minor": 2
}
